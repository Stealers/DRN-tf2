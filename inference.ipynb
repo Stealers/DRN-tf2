{
 "cells": [
  {
   "cell_type": "code",
   "execution_count": 1,
   "metadata": {},
   "outputs": [],
   "source": [
    "from inference import Inference"
   ]
  },
  {
   "cell_type": "code",
   "execution_count": 2,
   "metadata": {},
   "outputs": [],
   "source": [
    "weights_path = 'pretrain_models/model_dual.h5'\n",
    "scale = 4\n",
    "infernce = Inference(weights_path, scale)"
   ]
  },
  {
   "cell_type": "code",
   "execution_count": 15,
   "metadata": {},
   "outputs": [
    {
     "data": {
      "text/plain": [
       "'Done!'"
      ]
     },
     "execution_count": 15,
     "metadata": {},
     "output_type": "execute_result"
    }
   ],
   "source": [
    "name = 'img_test/img1_'\n",
    "lr_path = name+'LR'+'.png'\n",
    "sr_path = name+'SR'+'.png'\n",
    "infernce(lr_path, sr_path)"
   ]
  },
  {
   "cell_type": "code",
   "execution_count": 18,
   "metadata": {},
   "outputs": [
    {
     "name": "stdout",
     "output_type": "stream",
     "text": [
      "tf.Tensor(0.88538456, shape=(), dtype=float32)\n",
      "tf.Tensor(28.82854, shape=(), dtype=float32)\n"
     ]
    }
   ],
   "source": [
    "import tensorflow as tf\n",
    "\n",
    "path1 = 'img_test/img1_HR.png'#bicubic\n",
    "path2 = 'img_test/img1_SR.png'\n",
    "img1 = tf.io.read_file(path1)\n",
    "img1 = tf.io.decode_image(img1,3,expand_animations=False)\n",
    "\n",
    "img2 = tf.io.read_file(path2)\n",
    "img2 = tf.io.decode_image(img2,3,expand_animations=False)\n",
    "\n",
    "print(tf.image.ssim(img1, img2, max_val=255))\n",
    "print(tf.image.psnr(img1, img2, max_val=255))"
   ]
  },
  {
   "cell_type": "code",
   "execution_count": 14,
   "metadata": {},
   "outputs": [],
   "source": [
    "scale = 4\n",
    "name = 'img_test/img1'\n",
    "path = name+'_LR.png'\n",
    "image = tf.io.read_file(path)\n",
    "image = tf.io.decode_image(image,3,expand_animations=False)\n",
    "image = tf.image.resize(image, [image.shape[0]*4, image.shape[1]*4], method='bicubic', antialias=True)\n",
    "image = tf.cast(tf.clip_by_value(image, 0, 255), tf.uint8)\n",
    "image = tf.image.encode_png(image,3)\n",
    "tf.io.write_file(name+'_Bicubic.png',image)"
   ]
  },
  {
   "cell_type": "markdown",
   "metadata": {},
   "source": [
    "## make HR"
   ]
  },
  {
   "cell_type": "code",
   "execution_count": 9,
   "metadata": {},
   "outputs": [],
   "source": [
    "scale = 4\n",
    "name = 'img_test/img1'\n",
    "path = name+'_Raw.jpg'\n",
    "image = tf.io.read_file(path)\n",
    "image = tf.io.decode_image(image,3,expand_animations=False)\n",
    "image = tf.image.crop_to_bounding_box(image, 0, 0, image.shape[0]//4*4, image.shape[1]//4*4)\n",
    "image = tf.image.encode_png(image,3)\n",
    "tf.io.write_file(name+'_HR.png',image)"
   ]
  },
  {
   "cell_type": "markdown",
   "metadata": {},
   "source": [
    "## make LR"
   ]
  },
  {
   "cell_type": "code",
   "execution_count": 13,
   "metadata": {},
   "outputs": [],
   "source": [
    "scale = 4\n",
    "name = 'img_test/img1'\n",
    "path = name+'_HR.png'\n",
    "image = tf.io.read_file(path)\n",
    "image = tf.io.decode_image(image,3,expand_animations=False)\n",
    "image = tf.image.resize(image, [image.shape[0]//4, image.shape[1]//4], method='bicubic', antialias=True)\n",
    "image = tf.cast(tf.clip_by_value(image, 0, 255), tf.uint8)\n",
    "image = tf.image.encode_png(image,3)\n",
    "tf.io.write_file(name+'_LR.png',image)"
   ]
  }
 ],
 "metadata": {
  "kernelspec": {
   "display_name": "Python 3",
   "language": "python",
   "name": "python3"
  },
  "language_info": {
   "codemirror_mode": {
    "name": "ipython",
    "version": 3
   },
   "file_extension": ".py",
   "mimetype": "text/x-python",
   "name": "python",
   "nbconvert_exporter": "python",
   "pygments_lexer": "ipython3",
   "version": "3.7.6"
  }
 },
 "nbformat": 4,
 "nbformat_minor": 4
}
