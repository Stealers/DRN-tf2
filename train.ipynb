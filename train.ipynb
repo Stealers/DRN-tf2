{
 "cells": [
  {
   "cell_type": "code",
   "execution_count": null,
   "metadata": {},
   "outputs": [],
   "source": [
    "!wget http://data.vision.ee.ethz.ch/cvl/DIV2K/DIV2K_train_HR.zip"
   ]
  },
  {
   "cell_type": "code",
   "execution_count": null,
   "metadata": {},
   "outputs": [],
   "source": [
    "!unzip DIV2K_train_HR.zip"
   ]
  },
  {
   "cell_type": "code",
   "execution_count": 1,
   "metadata": {},
   "outputs": [],
   "source": [
    "from model import DRN\n",
    "from data import data_load,data_decode,data_prepare\n",
    "from data import data_patch,data_augment,data_normalize\n",
    "import tensorflow as tf"
   ]
  },
  {
   "cell_type": "code",
   "execution_count": null,
   "metadata": {},
   "outputs": [],
   "source": [
    "data_path = 'DIV2K_train_HR'\n",
    "input_size = 64\n",
    "channel = 3\n",
    "scale = 4\n",
    "dual = True\n",
    "input_shape = (input_size,input_size,channel)\n",
    "\n",
    "dataset = tf.data.Dataset.from_tensor_slices(data_load(data_path))\n",
    "dataset = dataset.map(data_decode,tf.data.experimental.AUTOTUNE)\n",
    "dataset = dataset.map(lambda x: data_prepare(x,scale,input_shape),tf.data.experimental.AUTOTUNE)\n",
    "dataset = dataset.cache()\n",
    "dataset = dataset.map(lambda x,y: data_patch(x,y,scale,input_shape),tf.data.experimental.AUTOTUNE)\n",
    "dataset = dataset.map(data_augment,tf.data.experimental.AUTOTUNE)\n",
    "dataset = dataset.map(data_normalize,tf.data.experimental.AUTOTUNE)\n",
    "dataset = dataset.batch(16).prefetch(tf.data.experimental.AUTOTUNE)\n",
    "\n",
    "model = DRN(input_shape=input_shape,model='DRN-S',scale=scale,dual=dual)"
   ]
  },
  {
   "cell_type": "code",
   "execution_count": null,
   "metadata": {},
   "outputs": [],
   "source": [
    "from tensorflow.keras.callbacks import ModelCheckpoint, LearningRateScheduler\n",
    "from tensorflow.keras.optimizers import Adam,SGD\n",
    "import os\n",
    "import math\n",
    "\n",
    "def CosineAnnealingScheduler(T_max=30,lr_max=0.001,lr_min=0.00009,Pi=tf.constant(math.pi)):\n",
    "    def scheduler(epoch, lr):\n",
    "        lr = lr_min + (lr_max - lr_min) * 0.5*(1 + tf.math.cos(Pi * epoch / T_max))\n",
    "        return lr\n",
    "    return scheduler\n",
    "    \n",
    "def loss(y_true, y_pred):\n",
    "    loss = tf.math.reduce_mean(tf.keras.losses.MAE(y_true,y_pred))\n",
    "    return loss\n",
    "def dual_loss(y_true, y_pred):\n",
    "    lr, sr2lr = tf.split(y_pred, 2, axis=-1)\n",
    "    loss = tf.math.reduce_mean(tf.keras.losses.MAE(lr,sr2lr))\n",
    "    return 0.1*loss\n",
    "\n",
    "model_path = \"./models/\"\n",
    "model_name = \"weights-{epoch:03d}-{loss:.4f}.h5\"\n",
    "if not os.path.exists(model_path):\n",
    "    os.mkdir(model_path)\n",
    "checkpoint = ModelCheckpoint(os.path.join(model_path, model_name),save_freq=2,save_best_only=False,save_weights_only=True)\n",
    "lrscheduler = LearningRateScheduler(CosineAnnealingScheduler())\n",
    "opt = Adam(1e-3)\n",
    "if dual:\n",
    "    model.compile(loss=[loss]+[dual_loss for i in range(int(math.log(scale,2)))], optimizer=opt)\n",
    "else:\n",
    "    model.compile(loss='mean_absolute_error', optimizer=opt)"
   ]
  },
  {
   "cell_type": "code",
   "execution_count": null,
   "metadata": {},
   "outputs": [],
   "source": [
    "model.fit(dataset,epochs=400,callbacks=[checkpoint,lrscheduler])"
   ]
  },
  {
   "cell_type": "code",
   "execution_count": null,
   "metadata": {},
   "outputs": [],
   "source": []
  }
 ],
 "metadata": {
  "kernelspec": {
   "display_name": "Python 3",
   "language": "python",
   "name": "python3"
  },
  "language_info": {
   "codemirror_mode": {
    "name": "ipython",
    "version": 3
   },
   "file_extension": ".py",
   "mimetype": "text/x-python",
   "name": "python",
   "nbconvert_exporter": "python",
   "pygments_lexer": "ipython3",
   "version": "3.7.6"
  }
 },
 "nbformat": 4,
 "nbformat_minor": 4
}
